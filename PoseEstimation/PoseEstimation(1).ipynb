{
  "nbformat": 4,
  "nbformat_minor": 0,
  "metadata": {
    "colab": {
      "provenance": [],
      "gpuType": "T4"
    },
    "kernelspec": {
      "name": "python3",
      "display_name": "Python 3"
    },
    "language_info": {
      "name": "python"
    },
    "accelerator": "GPU"
  },
  "cells": [
    {
      "cell_type": "code",
      "source": [
        "!pip install 'git+https://github.com/facebookresearch/detectron2.git'"
      ],
      "metadata": {
        "id": "DT4Ddn2ih91r",
        "colab": {
          "base_uri": "https://localhost:8080/"
        },
        "outputId": "b145272f-2a30-45e4-adc8-9f987a67e392"
      },
      "execution_count": 10,
      "outputs": [
        {
          "output_type": "stream",
          "name": "stdout",
          "text": [
            "Collecting git+https://github.com/facebookresearch/detectron2.git\n",
            "  Cloning https://github.com/facebookresearch/detectron2.git to /tmp/pip-req-build-3g52pbh5\n",
            "  Running command git clone --filter=blob:none --quiet https://github.com/facebookresearch/detectron2.git /tmp/pip-req-build-3g52pbh5\n",
            "  Resolved https://github.com/facebookresearch/detectron2.git to commit 65184fc057d4fab080a98564f6b60fae0b94edc4\n",
            "  Preparing metadata (setup.py) ... \u001b[?25l\u001b[?25hdone\n",
            "Requirement already satisfied: Pillow>=7.1 in /usr/local/lib/python3.11/dist-packages (from detectron2==0.6) (11.2.1)\n",
            "Requirement already satisfied: matplotlib in /usr/local/lib/python3.11/dist-packages (from detectron2==0.6) (3.10.0)\n",
            "Requirement already satisfied: pycocotools>=2.0.2 in /usr/local/lib/python3.11/dist-packages (from detectron2==0.6) (2.0.8)\n",
            "Requirement already satisfied: termcolor>=1.1 in /usr/local/lib/python3.11/dist-packages (from detectron2==0.6) (3.1.0)\n",
            "Requirement already satisfied: yacs>=0.1.8 in /usr/local/lib/python3.11/dist-packages (from detectron2==0.6) (0.1.8)\n",
            "Requirement already satisfied: tabulate in /usr/local/lib/python3.11/dist-packages (from detectron2==0.6) (0.9.0)\n",
            "Requirement already satisfied: cloudpickle in /usr/local/lib/python3.11/dist-packages (from detectron2==0.6) (3.1.1)\n",
            "Requirement already satisfied: tqdm>4.29.0 in /usr/local/lib/python3.11/dist-packages (from detectron2==0.6) (4.67.1)\n",
            "Requirement already satisfied: tensorboard in /usr/local/lib/python3.11/dist-packages (from detectron2==0.6) (2.18.0)\n",
            "Requirement already satisfied: fvcore<0.1.6,>=0.1.5 in /usr/local/lib/python3.11/dist-packages (from detectron2==0.6) (0.1.5.post20221221)\n",
            "Requirement already satisfied: iopath<0.1.10,>=0.1.7 in /usr/local/lib/python3.11/dist-packages (from detectron2==0.6) (0.1.9)\n",
            "Requirement already satisfied: omegaconf<2.4,>=2.1 in /usr/local/lib/python3.11/dist-packages (from detectron2==0.6) (2.3.0)\n",
            "Requirement already satisfied: hydra-core>=1.1 in /usr/local/lib/python3.11/dist-packages (from detectron2==0.6) (1.3.2)\n",
            "Requirement already satisfied: black in /usr/local/lib/python3.11/dist-packages (from detectron2==0.6) (25.1.0)\n",
            "Requirement already satisfied: packaging in /usr/local/lib/python3.11/dist-packages (from detectron2==0.6) (24.2)\n",
            "Requirement already satisfied: numpy in /usr/local/lib/python3.11/dist-packages (from fvcore<0.1.6,>=0.1.5->detectron2==0.6) (1.24.4)\n",
            "Requirement already satisfied: pyyaml>=5.1 in /usr/local/lib/python3.11/dist-packages (from fvcore<0.1.6,>=0.1.5->detectron2==0.6) (6.0.2)\n",
            "Requirement already satisfied: antlr4-python3-runtime==4.9.* in /usr/local/lib/python3.11/dist-packages (from hydra-core>=1.1->detectron2==0.6) (4.9.3)\n",
            "Requirement already satisfied: portalocker in /usr/local/lib/python3.11/dist-packages (from iopath<0.1.10,>=0.1.7->detectron2==0.6) (3.1.1)\n",
            "Requirement already satisfied: contourpy>=1.0.1 in /usr/local/lib/python3.11/dist-packages (from matplotlib->detectron2==0.6) (1.3.2)\n",
            "Requirement already satisfied: cycler>=0.10 in /usr/local/lib/python3.11/dist-packages (from matplotlib->detectron2==0.6) (0.12.1)\n",
            "Requirement already satisfied: fonttools>=4.22.0 in /usr/local/lib/python3.11/dist-packages (from matplotlib->detectron2==0.6) (4.58.0)\n",
            "Requirement already satisfied: kiwisolver>=1.3.1 in /usr/local/lib/python3.11/dist-packages (from matplotlib->detectron2==0.6) (1.4.8)\n",
            "Requirement already satisfied: pyparsing>=2.3.1 in /usr/local/lib/python3.11/dist-packages (from matplotlib->detectron2==0.6) (3.2.3)\n",
            "Requirement already satisfied: python-dateutil>=2.7 in /usr/local/lib/python3.11/dist-packages (from matplotlib->detectron2==0.6) (2.9.0.post0)\n",
            "Requirement already satisfied: click>=8.0.0 in /usr/local/lib/python3.11/dist-packages (from black->detectron2==0.6) (8.2.1)\n",
            "Requirement already satisfied: mypy-extensions>=0.4.3 in /usr/local/lib/python3.11/dist-packages (from black->detectron2==0.6) (1.1.0)\n",
            "Requirement already satisfied: pathspec>=0.9.0 in /usr/local/lib/python3.11/dist-packages (from black->detectron2==0.6) (0.12.1)\n",
            "Requirement already satisfied: platformdirs>=2 in /usr/local/lib/python3.11/dist-packages (from black->detectron2==0.6) (4.3.8)\n",
            "Requirement already satisfied: absl-py>=0.4 in /usr/local/lib/python3.11/dist-packages (from tensorboard->detectron2==0.6) (1.4.0)\n",
            "Requirement already satisfied: grpcio>=1.48.2 in /usr/local/lib/python3.11/dist-packages (from tensorboard->detectron2==0.6) (1.71.0)\n",
            "Requirement already satisfied: markdown>=2.6.8 in /usr/local/lib/python3.11/dist-packages (from tensorboard->detectron2==0.6) (3.8)\n",
            "Requirement already satisfied: protobuf!=4.24.0,>=3.19.6 in /usr/local/lib/python3.11/dist-packages (from tensorboard->detectron2==0.6) (5.29.4)\n",
            "Requirement already satisfied: setuptools>=41.0.0 in /usr/local/lib/python3.11/dist-packages (from tensorboard->detectron2==0.6) (75.2.0)\n",
            "Requirement already satisfied: six>1.9 in /usr/local/lib/python3.11/dist-packages (from tensorboard->detectron2==0.6) (1.17.0)\n",
            "Requirement already satisfied: tensorboard-data-server<0.8.0,>=0.7.0 in /usr/local/lib/python3.11/dist-packages (from tensorboard->detectron2==0.6) (0.7.2)\n",
            "Requirement already satisfied: werkzeug>=1.0.1 in /usr/local/lib/python3.11/dist-packages (from tensorboard->detectron2==0.6) (3.1.3)\n",
            "Requirement already satisfied: MarkupSafe>=2.1.1 in /usr/local/lib/python3.11/dist-packages (from werkzeug>=1.0.1->tensorboard->detectron2==0.6) (3.0.2)\n"
          ]
        }
      ]
    },
    {
      "cell_type": "code",
      "source": [
        "!pip install numpy==1.24.4\n"
      ],
      "metadata": {
        "colab": {
          "base_uri": "https://localhost:8080/",
          "height": 457
        },
        "id": "nOZiW7HDWRiy",
        "outputId": "67f1e73d-313d-4459-9c53-5dcd2e88e9c2"
      },
      "execution_count": 2,
      "outputs": [
        {
          "output_type": "stream",
          "name": "stdout",
          "text": [
            "Collecting numpy==1.24.4\n",
            "  Downloading numpy-1.24.4-cp311-cp311-manylinux_2_17_x86_64.manylinux2014_x86_64.whl.metadata (5.6 kB)\n",
            "Downloading numpy-1.24.4-cp311-cp311-manylinux_2_17_x86_64.manylinux2014_x86_64.whl (17.3 MB)\n",
            "\u001b[2K   \u001b[90m━━━━━━━━━━━━━━━━━━━━━━━━━━━━━━━━━━━━━━━━\u001b[0m \u001b[32m17.3/17.3 MB\u001b[0m \u001b[31m107.9 MB/s\u001b[0m eta \u001b[36m0:00:00\u001b[0m\n",
            "\u001b[?25hInstalling collected packages: numpy\n",
            "  Attempting uninstall: numpy\n",
            "    Found existing installation: numpy 2.0.2\n",
            "    Uninstalling numpy-2.0.2:\n",
            "      Successfully uninstalled numpy-2.0.2\n",
            "\u001b[31mERROR: pip's dependency resolver does not currently take into account all the packages that are installed. This behaviour is the source of the following dependency conflicts.\n",
            "tensorflow 2.18.0 requires numpy<2.1.0,>=1.26.0, but you have numpy 1.24.4 which is incompatible.\n",
            "jaxlib 0.5.1 requires numpy>=1.25, but you have numpy 1.24.4 which is incompatible.\n",
            "thinc 8.3.6 requires numpy<3.0.0,>=2.0.0, but you have numpy 1.24.4 which is incompatible.\n",
            "treescope 0.1.9 requires numpy>=1.25.2, but you have numpy 1.24.4 which is incompatible.\n",
            "jax 0.5.2 requires numpy>=1.25, but you have numpy 1.24.4 which is incompatible.\n",
            "pymc 5.22.0 requires numpy>=1.25.0, but you have numpy 1.24.4 which is incompatible.\n",
            "blosc2 3.3.3 requires numpy>=1.26, but you have numpy 1.24.4 which is incompatible.\u001b[0m\u001b[31m\n",
            "\u001b[0mSuccessfully installed numpy-1.24.4\n"
          ]
        },
        {
          "output_type": "display_data",
          "data": {
            "application/vnd.colab-display-data+json": {
              "pip_warning": {
                "packages": [
                  "numpy"
                ]
              },
              "id": "5d6a320fbf3d4bc3b2b008d0f74dfaae"
            }
          },
          "metadata": {}
        }
      ]
    },
    {
      "cell_type": "code",
      "source": [
        "import cv2\n",
        "import pandas as pd\n",
        "import torch\n",
        "from detectron2.engine import DefaultPredictor\n",
        "from detectron2.config import get_cfg\n",
        "from detectron2 import model_zoo\n",
        "import pandas as pd\n",
        "import numpy as np\n",
        "from sklearn.metrics.pairwise import cosine_similarity\n",
        "import matplotlib.pyplot as plt\n",
        "import cv2\n"
      ],
      "metadata": {
        "id": "Rk1Slt3tnMhH"
      },
      "execution_count": 1,
      "outputs": []
    },
    {
      "cell_type": "code",
      "source": [
        "\n",
        "# === Step 1: Setup Detectron2 Keypoint Model ===\n",
        "cfg = get_cfg()\n",
        "cfg.merge_from_file(model_zoo.get_config_file(\"COCO-Keypoints/keypoint_rcnn_R_50_FPN_3x.yaml\"))\n",
        "cfg.MODEL.ROI_HEADS.SCORE_THRESH_TEST = 0.7  # confidence threshold\n",
        "cfg.MODEL.WEIGHTS = model_zoo.get_checkpoint_url(\"COCO-Keypoints/keypoint_rcnn_R_50_FPN_3x.yaml\")\n",
        "predictor = DefaultPredictor(cfg)\n",
        "\n"
      ],
      "metadata": {
        "colab": {
          "base_uri": "https://localhost:8080/"
        },
        "id": "-hjpGe9AdayB",
        "outputId": "84fb2c77-47a2-4026-804a-d2d2207039ef"
      },
      "execution_count": 2,
      "outputs": [
        {
          "output_type": "stream",
          "name": "stderr",
          "text": [
            "model_final_a6e10b.pkl: 237MB [00:03, 76.6MB/s]                           \n"
          ]
        }
      ]
    },
    {
      "cell_type": "code",
      "source": [
        "# === Step 2: Open Video File ===\n",
        "def generateCSV(videoPath, videoCSVName):\n",
        "  video_path = videoPath # change to your video file path\n",
        "  cap = cv2.VideoCapture(video_path)\n",
        "\n",
        "  keypoints_data = []\n",
        "  frame_id = 0\n",
        "\n",
        "  while cap.isOpened():\n",
        "    ret, frame = cap.read()\n",
        "    if not ret:\n",
        "        break\n",
        "\n",
        "    outputs = predictor(frame)\n",
        "    instances = outputs[\"instances\"]\n",
        "\n",
        "    if instances.has(\"pred_keypoints\"):\n",
        "        keypoints = instances.pred_keypoints.cpu().numpy()\n",
        "\n",
        "        for person_id, person_kpts in enumerate(keypoints):\n",
        "            for kpt_idx, (x, y, score) in enumerate(person_kpts):\n",
        "                keypoints_data.append({\n",
        "                    \"frame_id\": frame_id,\n",
        "                    \"person_id\": person_id,\n",
        "                    \"keypoint_index\": kpt_idx,\n",
        "                    \"x\": float(x),\n",
        "                    \"y\": float(y),\n",
        "                    \"score\": float(score)\n",
        "                })\n",
        "\n",
        "    frame_id += 1\n",
        "\n",
        "  cap.release()\n",
        "\n",
        "  # === Step 3: Save to CSV ===\n",
        "  df = pd.DataFrame(keypoints_data)\n",
        "  df.to_csv(videoCSVName, index=False)\n",
        "  print(\"Keypoints saved to - \" , videoCSVName)\n",
        "  #return videoCSVName\n"
      ],
      "metadata": {
        "id": "2L2r7QTsWj8s"
      },
      "execution_count": 3,
      "outputs": []
    },
    {
      "cell_type": "code",
      "source": [
        "generateCSV(\"/content/adultDanceVideo.mp4\", \"vidy1_keypoints_output.csv\")"
      ],
      "metadata": {
        "id": "4v9nHuDSdgVN",
        "colab": {
          "base_uri": "https://localhost:8080/"
        },
        "outputId": "77c7fd6a-8b04-436b-b04b-587e094b4035"
      },
      "execution_count": 4,
      "outputs": [
        {
          "output_type": "stream",
          "name": "stderr",
          "text": [
            "/usr/local/lib/python3.11/dist-packages/torch/functional.py:539: UserWarning: torch.meshgrid: in an upcoming release, it will be required to pass the indexing argument. (Triggered internally at /pytorch/aten/src/ATen/native/TensorShape.cpp:3637.)\n",
            "  return _VF.meshgrid(tensors, **kwargs)  # type: ignore[attr-defined]\n"
          ]
        },
        {
          "output_type": "stream",
          "name": "stdout",
          "text": [
            "Keypoints saved to -  vidy1_keypoints_output.csv\n"
          ]
        }
      ]
    },
    {
      "cell_type": "code",
      "source": [
        "generateCSV(\"/content/kidDanceVideo.mp4\", \"vidy2_keypoints_output.csv\")"
      ],
      "metadata": {
        "id": "03iWuKp6W-jE",
        "colab": {
          "base_uri": "https://localhost:8080/"
        },
        "outputId": "26762f77-b83f-4573-ff34-12289987b4f7"
      },
      "execution_count": 5,
      "outputs": [
        {
          "output_type": "stream",
          "name": "stdout",
          "text": [
            "Keypoints saved to -  vidy2_keypoints_output.csv\n"
          ]
        }
      ]
    },
    {
      "cell_type": "code",
      "source": [
        "\n",
        "\n",
        "def normalize_pose(kpts):\n",
        "    \"\"\" Center and scale pose. Input: (17, 2) keypoints \"\"\"\n",
        "    center = np.mean(kpts, axis=0)\n",
        "    kpts_centered = kpts - center\n",
        "    scale = np.linalg.norm(kpts_centered)\n",
        "    if scale > 0:\n",
        "        kpts_normalized = kpts_centered / scale\n",
        "    else:\n",
        "        kpts_normalized = kpts_centered\n",
        "    return kpts_normalized\n",
        "\n",
        "def pose_similarity(pose1, pose2):\n",
        "    \"\"\" Cosine similarity and Euclidean distance \"\"\"\n",
        "    pose1_flat = pose1.flatten()\n",
        "    pose2_flat = pose2.flatten()\n",
        "    cos_sim = cosine_similarity([pose1_flat], [pose2_flat])[0, 0]\n",
        "    eucl_dist = np.linalg.norm(pose1_flat - pose2_flat)\n",
        "    return cos_sim, eucl_dist\n",
        "\n",
        "# === Load and merge data ===\n",
        "df1 = pd.read_csv(\"vidy1_keypoints_output.csv\")\n",
        "df2 = pd.read_csv(\"vidy2_keypoints_output.csv\")\n",
        "\n",
        "# Merge only common frame_id, person_id, keypoint_index\n",
        "merged = pd.merge(df1, df2, on=[\"frame_id\", \"person_id\", \"keypoint_index\"], suffixes=(\"_1\", \"_2\"))\n",
        "\n",
        "# Prepare pose comparisons\n",
        "pose_comparisons = []\n",
        "\n",
        "# Group by frame/person\n",
        "for (frame_id, person_id), group in merged.groupby([\"frame_id\", \"person_id\"]):\n",
        "    kpts1 = group[[\"x_1\", \"y_1\"]].values\n",
        "    kpts2 = group[[\"x_2\", \"y_2\"]].values\n",
        "\n",
        "    if kpts1.shape[0] == 17 and kpts2.shape[0] == 17:\n",
        "        norm_pose1 = normalize_pose(kpts1)\n",
        "        norm_pose2 = normalize_pose(kpts2)\n",
        "\n",
        "        cos_sim, eucl_dist = pose_similarity(norm_pose1, norm_pose2)\n",
        "\n",
        "        pose_comparisons.append({\n",
        "            \"frame_id\": frame_id,\n",
        "            \"person_id\": person_id,\n",
        "            \"cosine_similarity\": cos_sim,\n",
        "            \"euclidean_distance\": eucl_dist\n",
        "        })\n",
        "\n",
        "# === Save and visualize ===\n",
        "df_pose = pd.DataFrame(pose_comparisons)\n",
        "df_pose.to_csv(\"pose_comparison_summary.csv\", index=False)\n",
        "print(\"Saved pose similarity summary to pose_comparison_summary.csv\")\n",
        "\n",
        "# === Visualization ===\n",
        "plt.figure(figsize=(12, 5))\n",
        "plt.plot(df_pose[\"frame_id\"], df_pose[\"cosine_similarity\"], marker='o', label=\"Cosine Similarity\")\n",
        "plt.title(\"Pose Cosine Similarity Across Frames\")\n",
        "plt.xlabel(\"Frame ID\")\n",
        "plt.ylabel(\"Cosine Similarity\")\n",
        "plt.ylim(0, 1.1)\n",
        "plt.grid(True)\n",
        "plt.legend()\n",
        "plt.tight_layout()\n",
        "plt.savefig(\"pose_cosine_similarity.png\")\n",
        "plt.show()\n"
      ],
      "metadata": {
        "id": "DUfPGNv_e8E4",
        "colab": {
          "base_uri": "https://localhost:8080/",
          "height": 428
        },
        "outputId": "e30e5b9b-51da-4ebf-c20e-fb948cb8772b"
      },
      "execution_count": 6,
      "outputs": [
        {
          "output_type": "stream",
          "name": "stdout",
          "text": [
            "Saved pose similarity summary to pose_comparison_summary.csv\n"
          ]
        },
        {
          "output_type": "display_data",
          "data": {
            "text/plain": [
              "<Figure size 1200x500 with 1 Axes>"
            ],
            "image/png": "[encoded data removed]"
          },
          "metadata": {}
        }
      ]
    },
    {
      "cell_type": "code",
      "source": [
        "COCO_SKELETON = [\n",
        "    (5, 7), (7, 9),    # Left arm\n",
        "    (6, 8), (8, 10),   # Right arm\n",
        "    (5, 6),            # Shoulders\n",
        "    (11, 13), (13, 15), # Left leg\n",
        "    (12, 14), (14, 16), # Right leg\n",
        "    (11, 12),          # Hips\n",
        "    (5, 11), (6, 12)   # Torso\n",
        "]\n",
        "\n",
        "import cv2\n",
        "import numpy as np\n",
        "\n",
        "def draw_pose(image, keypoints, color=(0, 255, 0), threshold=0.3):\n",
        "    for i, (x, y, score) in enumerate(keypoints):\n",
        "        if score > threshold:\n",
        "            cv2.circle(image, (int(x), int(y)), 3, color, -1)\n",
        "\n",
        "    for i, j in COCO_SKELETON:\n",
        "        if keypoints[i][2] > threshold and keypoints[j][2] > threshold:\n",
        "            pt1 = (int(keypoints[i][0]), int(keypoints[i][1]))\n",
        "            pt2 = (int(keypoints[j][0]), int(keypoints[j][1]))\n",
        "            cv2.line(image, pt1, pt2, color, 2)\n",
        "    return image\n",
        "\n",
        "import pandas as pd\n",
        "import os\n",
        "\n",
        "# Load keypoints\n",
        "df1 = pd.read_csv(\"vidy1_keypoints_output.csv\")\n",
        "df2 = pd.read_csv(\"vidy2_keypoints_output.csv\")\n",
        "\n",
        "# Open videos\n",
        "cap1 = cv2.VideoCapture(\"/content/adultDanceVideo.mp4\")\n",
        "cap2 = cv2.VideoCapture(\"/content/kidDanceVideo.mp4\")\n",
        "\n",
        "# Output directory\n",
        "os.makedirs(\"pose_overlays\", exist_ok=True)\n",
        "\n",
        "frame_id = 0\n",
        "while cap1.isOpened() and cap2.isOpened():\n",
        "    ret1, frame1 = cap1.read()\n",
        "    ret2, frame2 = cap2.read()\n",
        "    if not ret1 or not ret2:\n",
        "        break\n",
        "\n",
        "    # Get keypoints for this frame\n",
        "    kpts1 = df1[df1[\"frame_id\"] == frame_id]\n",
        "    kpts2 = df2[df2[\"frame_id\"] == frame_id]\n",
        "\n",
        "    # Draw each person\n",
        "    for person_id in kpts1[\"person_id\"].unique():\n",
        "        person_kpts = kpts1[kpts1[\"person_id\"] == person_id][[\"x\", \"y\", \"score\"]].values\n",
        "        if person_kpts.shape[0] == 17:\n",
        "            frame1 = draw_pose(frame1, person_kpts)\n",
        "\n",
        "    for person_id in kpts2[\"person_id\"].unique():\n",
        "        person_kpts = kpts2[kpts2[\"person_id\"] == person_id][[\"x\", \"y\", \"score\"]].values\n",
        "        if person_kpts.shape[0] == 17:\n",
        "            frame2 = draw_pose(frame2, person_kpts, color=(0, 0, 255))\n",
        "\n",
        "    # Resize to match\n",
        "    frame1 = cv2.resize(frame1, (480, 360))\n",
        "    frame2 = cv2.resize(frame2, (480, 360))\n",
        "    combined = cv2.hconcat([frame1, frame2])\n",
        "\n",
        "    # Annotate\n",
        "    cv2.putText(combined, f\"Frame {frame_id}\", (10, 25), cv2.FONT_HERSHEY_SIMPLEX, 0.8, (255,255,255), 2)\n",
        "\n",
        "    # Save\n",
        "    cv2.imwrite(f\"pose_overlays/frame_{frame_id:04d}.png\", combined)\n",
        "    frame_id += 1\n",
        "\n",
        "cap1.release()\n",
        "cap2.release()\n",
        "print(\"Overlays saved to ./pose_overlays/\")\n"
      ],
      "metadata": {
        "id": "4B4YD1dnf82Q",
        "colab": {
          "base_uri": "https://localhost:8080/"
        },
        "outputId": "338a1645-02f6-4743-f53d-23d10b1ce20d"
      },
      "execution_count": 7,
      "outputs": [
        {
          "output_type": "stream",
          "name": "stdout",
          "text": [
            "Overlays saved to ./pose_overlays/\n"
          ]
        }
      ]
    },
    {
      "cell_type": "code",
      "source": [
        "import cv2\n",
        "import pandas as pd\n",
        "import numpy as np\n",
        "import os\n",
        "\n",
        "# === COCO Skeleton Connections ===\n",
        "COCO_SKELETON = [\n",
        "    (5, 7), (7, 9), (6, 8), (8, 10),  # Arms\n",
        "    (5, 6),                           # Shoulders\n",
        "    (11, 13), (13, 15), (12, 14), (14, 16),  # Legs\n",
        "    (11, 12),                         # Hips\n",
        "    (5, 11), (6, 12)                  # Torso\n",
        "]\n",
        "\n",
        "# === Draw Skeleton Function ===\n",
        "def draw_skeleton(image, keypoints, color=(0, 255, 0), threshold=0.3):\n",
        "    for i, (x, y, score) in enumerate(keypoints):\n",
        "        if score > threshold:\n",
        "            cv2.circle(image, (int(x), int(y)), 3, color, -1)\n",
        "    for i, j in COCO_SKELETON:\n",
        "        if keypoints[i][2] > threshold and keypoints[j][2] > threshold:\n",
        "            pt1 = (int(keypoints[i][0]), int(keypoints[i][1]))\n",
        "            pt2 = (int(keypoints[j][0]), int(keypoints[j][1]))\n",
        "            cv2.line(image, pt1, pt2, color, 2)\n",
        "    return image\n",
        "\n",
        "# === Load Keypoints CSV ===\n",
        "df1 = pd.read_csv(\"vidy1_keypoints_output.csv\")\n",
        "df2 = pd.read_csv(\"vidy2_keypoints_output.csv\")\n",
        "\n",
        "# === Output Folder ===\n",
        "os.makedirs(\"skeleton_video_frames\", exist_ok=True)\n",
        "\n",
        "# === Settings ===\n",
        "width, height = 480, 360\n",
        "background_color = (0, 0, 0)\n",
        "frame_ids = sorted(set(df1[\"frame_id\"]) & set(df2[\"frame_id\"]))\n",
        "\n",
        "for frame_id in frame_ids:\n",
        "    # Create black background canvas\n",
        "    left_canvas = np.full((height, width, 3), background_color, dtype=np.uint8)\n",
        "    right_canvas = np.full((height, width, 3), background_color, dtype=np.uint8)\n",
        "\n",
        "    # Draw Video 1 skeleton(s)\n",
        "    frame_kpts1 = df1[df1[\"frame_id\"] == frame_id]\n",
        "    for person_id in frame_kpts1[\"person_id\"].unique():\n",
        "        kpts = frame_kpts1[frame_kpts1[\"person_id\"] == person_id][[\"x\", \"y\", \"score\"]].values\n",
        "        if kpts.shape[0] == 17:\n",
        "            draw_skeleton(left_canvas, kpts, color=(0, 255, 0))\n",
        "\n",
        "    # Draw Video 2 skeleton(s)\n",
        "    frame_kpts2 = df2[df2[\"frame_id\"] == frame_id]\n",
        "    for person_id in frame_kpts2[\"person_id\"].unique():\n",
        "        kpts = frame_kpts2[frame_kpts2[\"person_id\"] == person_id][[\"x\", \"y\", \"score\"]].values\n",
        "        if kpts.shape[0] == 17:\n",
        "            draw_skeleton(right_canvas, kpts, color=(0, 0, 255))\n",
        "\n",
        "    # Combine side-by-side\n",
        "    combined = cv2.hconcat([left_canvas, right_canvas])\n",
        "    cv2.putText(combined, f\"Frame {frame_id}\", (10, 25), cv2.FONT_HERSHEY_SIMPLEX, 0.8, (255, 255, 255), 2)\n",
        "\n",
        "    # Save frame\n",
        "    out_path = f\"skeleton_video_frames/frame_{frame_id:04d}.png\"\n",
        "    cv2.imwrite(out_path, combined)\n",
        "\n",
        "print(\"Skeleton frames saved to ./skeleton_video_frames\")\n"
      ],
      "metadata": {
        "id": "ORiWSXQfgrCV",
        "colab": {
          "base_uri": "https://localhost:8080/"
        },
        "outputId": "a1b463b5-6865-48a6-a3dc-bbb40c6318df"
      },
      "execution_count": 8,
      "outputs": [
        {
          "output_type": "stream",
          "name": "stdout",
          "text": [
            "Skeleton frames saved to ./skeleton_video_frames\n"
          ]
        }
      ]
    },
    {
      "cell_type": "code",
      "source": [
        "import cv2\n",
        "from moviepy.editor import VideoFileClip, clips_array\n",
        "\n",
        "# --- Fake Skeletonization using Contour Detection ---\n",
        "def fake_skeletonize_video(input_path, output_path):\n",
        "    cap = cv2.VideoCapture(input_path)\n",
        "    fgbg = cv2.createBackgroundSubtractorMOG2()\n",
        "\n",
        "    fps = cap.get(cv2.CAP_PROP_FPS)\n",
        "    width = int(cap.get(cv2.CAP_PROP_FRAME_WIDTH))\n",
        "    height = int(cap.get(cv2.CAP_PROP_FRAME_HEIGHT))\n",
        "    fourcc = cv2.VideoWriter_fourcc(*'mp4v')\n",
        "    out = cv2.VideoWriter(output_path, fourcc, fps, (width, height))\n",
        "\n",
        "    while True:\n",
        "        ret, frame = cap.read()\n",
        "        if not ret:\n",
        "            break\n",
        "\n",
        "        fgmask = fgbg.apply(frame)\n",
        "        contours, _ = cv2.findContours(fgmask, cv2.RETR_EXTERNAL, cv2.CHAIN_APPROX_SIMPLE)\n",
        "\n",
        "        # Draw contours (approximation of motion/silhouette)\n",
        "        skeleton_frame = frame.copy()\n",
        "        cv2.drawContours(skeleton_frame, contours, -1, (0, 255, 0), 2)\n",
        "        out.write(skeleton_frame)\n",
        "\n",
        "    cap.release()\n",
        "    out.release()\n",
        "\n",
        "# --- Combine Videos Side-by-Side ---\n",
        "def combine_videos(video1_path, video2_path, output_path):\n",
        "    clip1 = VideoFileClip(video1_path)\n",
        "    clip2 = VideoFileClip(video2_path)\n",
        "\n",
        "    # Resize to same height\n",
        "    min_height = min(clip1.h, clip2.h)\n",
        "    clip1 = clip1.resize(height=min_height)\n",
        "    clip2 = clip2.resize(height=min_height)\n",
        "\n",
        "    final_clip = clips_array([[clip1, clip2]])\n",
        "    final_clip.write_videofile(output_path, audio=False)\n",
        "\n",
        "# --- Main Execution ---\n",
        "if __name__ == '__main__':\n",
        "    input1 = '/content/adultDanceVideo.mp4'\n",
        "    input2 = '/content/kidDanceVideo.mp4'\n",
        "    skel1 = 'skeleton1.mp4'\n",
        "    skel2 = 'skeleton2.mp4'\n",
        "    output_combined = 'combined_skeleton_fake.mp4'\n",
        "\n",
        "    print(\"Simulating skeletonization for first video...\")\n",
        "    fake_skeletonize_video(input1, skel1)\n",
        "\n",
        "    print(\"Simulating skeletonization for second video...\")\n",
        "    fake_skeletonize_video(input2, skel2)\n",
        "\n",
        "    print(\"Combining both skeletonized videos side-by-side...\")\n",
        "    combine_videos(skel1, skel2, output_combined)\n",
        "\n",
        "    print(\"Done! Combined video saved as:\", output_combined)\n"
      ],
      "metadata": {
        "id": "VqIh40rhd0Gm",
        "colab": {
          "base_uri": "https://localhost:8080/"
        },
        "outputId": "87c69349-c8f9-4bee-ef56-24b64fe3e036"
      },
      "execution_count": 9,
      "outputs": [
        {
          "output_type": "stream",
          "name": "stderr",
          "text": [
            "WARNING:py.warnings:/usr/local/lib/python3.11/dist-packages/moviepy/video/io/sliders.py:61: SyntaxWarning: \"is\" with a literal. Did you mean \"==\"?\n",
            "  if event.key is 'enter':\n",
            "\n"
          ]
        },
        {
          "output_type": "stream",
          "name": "stdout",
          "text": [
            "Simulating skeletonization for first video...\n",
            "Simulating skeletonization for second video...\n",
            "Combining both skeletonized videos side-by-side...\n",
            "Moviepy - Building video combined_skeleton_fake.mp4.\n",
            "Moviepy - Writing video combined_skeleton_fake.mp4\n",
            "\n"
          ]
        },
        {
          "output_type": "stream",
          "name": "stderr",
          "text": []
        },
        {
          "output_type": "stream",
          "name": "stdout",
          "text": [
            "Moviepy - Done !\n",
            "Moviepy - video ready combined_skeleton_fake.mp4\n",
            "Done! Combined video saved as: combined_skeleton_fake.mp4\n"
          ]
        }
      ]
    },
    {
      "cell_type": "code",
      "source": [],
      "metadata": {
        "id": "eps-Rgs9g6G4"
      },
      "execution_count": null,
      "outputs": []
    }
  ]
}